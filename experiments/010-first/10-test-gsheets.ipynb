{
 "cells": [
  {
   "cell_type": "code",
   "execution_count": 1,
   "metadata": {},
   "outputs": [],
   "source": [
    "import gspread\n",
    "import os"
   ]
  },
  {
   "cell_type": "code",
   "execution_count": 6,
   "metadata": {},
   "outputs": [],
   "source": [
    "CREDS_PATH = f\"{os.environ['HOME']}/kk/hahaunt/\"\n",
    "gc = gspread.oauth(\n",
    "    credentials_filename=f\"{CREDS_PATH}/hahaunt-content-pipeline-client.json\",\n",
    "    authorized_user_filename=f\"{CREDS_PATH}/authorized_user.json\"\n",
    ")"
   ]
  },
  {
   "cell_type": "code",
   "execution_count": 9,
   "metadata": {},
   "outputs": [
    {
     "data": {
      "text/plain": [
       "[{'id': '1skgajFYYnC5F-WeaRUXZ12ciZXGjVkor8S9rzXdEMcA',\n",
       "  'name': 'v02',\n",
       "  'createdTime': '2025-04-05T12:39:02.419Z',\n",
       "  'modifiedTime': '2025-04-05T12:39:12.003Z'}]"
      ]
     },
     "execution_count": 9,
     "metadata": {},
     "output_type": "execute_result"
    }
   ],
   "source": [
    "ff=gc.list_spreadsheet_files(folder_id=\"1fgjHAyc56O_IgYnJRH48Qe8OFmzMWO1_\")\n",
    "ff"
   ]
  },
  {
   "cell_type": "code",
   "execution_count": 11,
   "metadata": {},
   "outputs": [],
   "source": [
    "s01 = gc.open_by_key(ff[0]['id'])"
   ]
  },
  {
   "cell_type": "code",
   "execution_count": 21,
   "metadata": {},
   "outputs": [
    {
     "data": {
      "text/plain": [
       "[<Worksheet '[done] batch3' id:1049181736>]"
      ]
     },
     "execution_count": 21,
     "metadata": {},
     "output_type": "execute_result"
    }
   ],
   "source": [
    "ww = s01.worksheets()\n",
    "ww"
   ]
  },
  {
   "cell_type": "code",
   "execution_count": 22,
   "metadata": {},
   "outputs": [
    {
     "data": {
      "text/plain": [
       "[{'id': 1,\n",
       "  'en': 'nest',\n",
       "  'ua': 'гніздо',\n",
       "  'transcription': 'гнІздо',\n",
       "  'memo': 'небо',\n",
       "  'memo2': 'несеться',\n",
       "  'works': 'FALSE',\n",
       "  'ch?': 'TRUE'},\n",
       " {'id': 2,\n",
       "  'en': 'nest',\n",
       "  'ua': 'гніздо',\n",
       "  'transcription': 'гнІздо',\n",
       "  'memo': 'ніс',\n",
       "  'memo2': 'ніс',\n",
       "  'works': 'TRUE',\n",
       "  'ch?': 'FALSE'},\n",
       " {'id': 3,\n",
       "  'en': 'nest',\n",
       "  'ua': 'гніздо',\n",
       "  'transcription': 'гнІздо',\n",
       "  'memo': 'ніж',\n",
       "  'memo2': 'ніж',\n",
       "  'works': 'FALSE',\n",
       "  'ch?': 'FALSE'}]"
      ]
     },
     "execution_count": 22,
     "metadata": {},
     "output_type": "execute_result"
    }
   ],
   "source": [
    "W = ww[0]\n",
    "W.get_all_records()[:3]"
   ]
  },
  {
   "cell_type": "code",
   "execution_count": 23,
   "metadata": {},
   "outputs": [],
   "source": [
    "from gspread.utils import GridRangeType\n"
   ]
  }
 ],
 "metadata": {
  "kernelspec": {
   "display_name": ".pyenv",
   "language": "python",
   "name": "python3"
  },
  "language_info": {
   "codemirror_mode": {
    "name": "ipython",
    "version": 3
   },
   "file_extension": ".py",
   "mimetype": "text/x-python",
   "name": "python",
   "nbconvert_exporter": "python",
   "pygments_lexer": "ipython3",
   "version": "3.11.11"
  }
 },
 "nbformat": 4,
 "nbformat_minor": 2
}
